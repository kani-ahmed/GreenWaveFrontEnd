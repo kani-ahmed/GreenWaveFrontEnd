{
 "cells": [
  {
   "cell_type": "code",
   "execution_count": 1,
   "metadata": {},
   "outputs": [],
   "source": [
    "# API Token: 04d16de546b15f153782fea2bd372137bf6d7774"
   ]
  },
  {
   "cell_type": "code",
   "execution_count": 7,
   "metadata": {},
   "outputs": [
    {
     "name": "stdout",
     "output_type": "stream",
     "text": [
      "04d16de546b15f153782fea2bd372137bf6d7774\n"
     ]
    }
   ],
   "source": [
    "import os\n",
    "import requests\n",
    "\n",
    "api_token = '04d16de546b15f153782fea2bd372137bf6d7774'\n",
    "#print(api_token)  # Should print the token if correctly set, None otherwise\n"
   ]
  },
  {
   "cell_type": "code",
   "execution_count": 19,
   "metadata": {},
   "outputs": [
    {
     "name": "stdout",
     "output_type": "stream",
     "text": [
      "Failed to retrieve data: 500\n"
     ]
    }
   ],
   "source": [
    "import requests\n",
    "\n",
    "# Replace this with the actual endpoint you're interested in\n",
    "#url = \"https://api.quiverquant.com/beta/historical/your_endpoint_here\"\n",
    "#ticker = \"AAPL\"\n",
    "#url = f\"https://api.quiverquant.com/beta/historical/allpatents/{ticker}\"\n",
    "#url = \"https://api.quiverquant.com/beta/historical/wallstreetbets\"\n",
    "url = \"https://api.quiverquant.com/beta/bulk/congresstrading\"\n",
    "\n",
    "# Use the token you've obtained\n",
    "headers = {\n",
    "    \"Authorization\": \"04d16de546b15f153782fea2bd372137bf6d7774\"\n",
    "}\n",
    "\n",
    "response = requests.get(url, headers=headers)\n",
    "\n",
    "# Check if the request was successful\n",
    "if response.status_code == 200:\n",
    "    # Parse the JSON response\n",
    "    data = response.json()\n",
    "    print(data)\n",
    "else:\n",
    "    print(\"Failed to retrieve data:\", response.status_code)\n"
   ]
  },
  {
   "cell_type": "code",
   "execution_count": null,
   "metadata": {},
   "outputs": [],
   "source": []
  }
 ],
 "metadata": {
  "kernelspec": {
   "display_name": "Python 3",
   "language": "python",
   "name": "python3"
  },
  "language_info": {
   "codemirror_mode": {
    "name": "ipython",
    "version": 3
   },
   "file_extension": ".py",
   "mimetype": "text/x-python",
   "name": "python",
   "nbconvert_exporter": "python",
   "pygments_lexer": "ipython3",
   "version": "3.8.8"
  }
 },
 "nbformat": 4,
 "nbformat_minor": 2
}
