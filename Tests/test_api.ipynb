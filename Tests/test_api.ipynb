{
 "cells": [
  {
   "cell_type": "code",
   "execution_count": 2,
   "metadata": {},
   "outputs": [
    {
     "name": "stdout",
     "output_type": "stream",
     "text": [
      "Request successful!\n",
      "Response: {'eco_points': 0, 'email': 'justguy@example.com', 'profile_picture': None, 'username': 'Just Guy'}\n"
     ]
    }
   ],
   "source": [
    "import requests\n",
    "\n",
    "# Get user profile data\n",
    "# Define the URL for the API endpoint\n",
    "url = 'http://127.0.0.1:8000/view_profile/1'\n",
    "\n",
    "# Make a GET request to the API endpoint\n",
    "response = requests.get(url)\n",
    "\n",
    "# Check the response status code\n",
    "if response.status_code == 200:\n",
    "    print('Request successful!')\n",
    "    print('Response:', response.json())  # Print the response data\n",
    "else:\n",
    "    print('Request failed.')\n",
    "    print('Response:', response.text)  # Print the response text to see the error message\n",
    "\n",
    "\n"
   ]
  },
  {
   "cell_type": "code",
   "execution_count": 4,
   "metadata": {},
   "outputs": [
    {
     "name": "stdout",
     "output_type": "stream",
     "text": [
      "Login successful!\n"
     ]
    }
   ],
   "source": [
    "# LOGIN TEST\n",
    "# Example USER\n",
    "# Username: 'Just Guy'\n",
    "# Email: 'justguy@gmail.com'\n",
    "# ID: 1\n",
    "# Password: 'password'\n",
    "import requests\n",
    "\n",
    "\n",
    "# Define the URL of the API endpoint\n",
    "url = 'http://127.0.0.1:8000/login'\n",
    "\n",
    "# Define the data payload with the user ID and password\n",
    "data = {'username': 'Just Guy', 'password': 'password'}\n",
    "\n",
    "# Send a POST request to log in\n",
    "response = requests.post(url, json=data)\n",
    "\n",
    "# Check the response status code\n",
    "if response.status_code == 200:\n",
    "    print(\"Login successful!\")\n",
    "else:\n",
    "    print(\"Error:\", response.json())\n",
    "\n",
    "    "
   ]
  },
  {
   "cell_type": "code",
   "execution_count": 5,
   "metadata": {},
   "outputs": [
    {
     "name": "stdout",
     "output_type": "stream",
     "text": [
      "Registration successful!\n"
     ]
    }
   ],
   "source": [
    "# REGISTRATION TEST\n",
    "# Example USER\n",
    "# Username: 'Another Guy'\n",
    "# Email: 'anotherguy@gmail.com'\n",
    "# ID: 2\n",
    "# Password: 'password'\n",
    "import requests\n",
    "\n",
    "# Define the URL of the API endpoint for registration\n",
    "url = 'http://127.0.0.1:8000/register'\n",
    "\n",
    "# Define the data payload with the user details for registration\n",
    "data = {\n",
    "    'username': 'NewUser',\n",
    "    'email': 'newuser@example.com',\n",
    "    'password': 'newpassword'\n",
    "}\n",
    "\n",
    "# Send a POST request to register\n",
    "response = requests.post(url, json=data)\n",
    "\n",
    "# Check the response status code\n",
    "if response.status_code == 201:\n",
    "    print(\"Registration successful!\")\n",
    "elif response.status_code == 409:\n",
    "    print(\"Error: Username or email already in use\")\n",
    "else:\n",
    "    # General error handling\n",
    "    print(\"Error:\", response.status_code, response.json())\n"
   ]
  },
  {
   "cell_type": "code",
   "execution_count": 19,
   "metadata": {},
   "outputs": [
    {
     "name": "stdout",
     "output_type": "stream",
     "text": [
      "Fetch successful!\n",
      "Personal Challenges: [{'challenge_id': 1, 'description': 'Refuse a plastic straw', 'eco_points': 5, 'end_date': None, 'name': 'Daily Quick Wins', 'start_date': '2024-04-12T01:43:17', 'status': 'In Progress'}]\n"
     ]
    }
   ],
   "source": [
    "import requests\n",
    "\n",
    "# Define the URL of the API endpoint to get personal challenges\n",
    "url = 'http://127.0.0.1:8000/get_personal_challenges/1'  # Assuming '1' is the user ID of 'Just Guy'\n",
    "\n",
    "# Send a GET request to fetch personal challenges\n",
    "response = requests.get(url)\n",
    "\n",
    "# Check the response status code and print the data\n",
    "if response.status_code == 200:\n",
    "    print(\"Fetch successful!\")\n",
    "    challenges = response.json()\n",
    "    print(\"Personal Challenges:\", challenges)\n",
    "elif response.status_code == 404:\n",
    "    print(\"User or challenges not found.\")\n",
    "else:\n",
    "    print(\"Error:\", response.status_code, response.json())\n"
   ]
  },
  {
   "cell_type": "code",
   "execution_count": 32,
   "metadata": {},
   "outputs": [
    {
     "name": "stdout",
     "output_type": "stream",
     "text": [
      "Badge created successfully: {'badge_id': 3, 'message': 'Badge created successfully'}\n"
     ]
    }
   ],
   "source": [
    "import requests\n",
    "\n",
    "def create_badge(name, eco_points_required):\n",
    "    url = 'http://127.0.0.1:8000/create_badge'\n",
    "    payload = {'name': name, 'eco_points_required': eco_points_required}\n",
    "\n",
    "    response = requests.post(url, json=payload)\n",
    "    if response.status_code == 201:\n",
    "        print(\"Badge created successfully:\", response.json())\n",
    "    else:\n",
    "        print(\"Failed to create badge:\", response.status_code, response.json())\n",
    "\n",
    "# Example usage\n",
    "if __name__ == \"__main__\":\n",
    "    badge_name = 'Green Innovator'  # Name of the badge to create\n",
    "    eco_points_required = 300  # Number of eco points required for this badge\n",
    "    create_badge(badge_name, eco_points_required)\n"
   ]
  },
  {
   "cell_type": "code",
   "execution_count": 33,
   "metadata": {},
   "outputs": [
    {
     "name": "stdout",
     "output_type": "stream",
     "text": [
      "Badge awarded successfully.\n"
     ]
    }
   ],
   "source": [
    "import requests\n",
    "\n",
    "def award_badge(user_id, badge_type):\n",
    "    url = 'http://127.0.0.1:8000/award_badge'\n",
    "    payload = {'user_id': user_id, 'badge_type': badge_type}\n",
    "\n",
    "    response = requests.post(url, json=payload)\n",
    "    if response.status_code == 204:\n",
    "        print(\"Badge awarded successfully.\")\n",
    "    else:\n",
    "        print(\"Failed to award badge:\", response.status_code)\n",
    "\n",
    "# Example usage\n",
    "if __name__ == \"__main__\":\n",
    "    user_id = 1  # Example user ID\n",
    "    badge_type = 'Green Innovator'  # Example badge type\n",
    "    award_badge(user_id, badge_type)\n",
    "\n"
   ]
  },
  {
   "cell_type": "code",
   "execution_count": 34,
   "metadata": {},
   "outputs": [
    {
     "name": "stdout",
     "output_type": "stream",
     "text": [
      "Fetch successful!\n",
      "User Badges: {'badges': ['Eco Warrior', 'Sustainability Steward', 'Green Innovator']}\n"
     ]
    }
   ],
   "source": [
    "import requests\n",
    "\n",
    "def test_get_user_badges(user_id):\n",
    "    # Define the URL of the API endpoint to get badges for a specific user\n",
    "    url = f'http://127.0.0.1:8000/get_badges/{user_id}'\n",
    "\n",
    "    # Send a GET request to fetch the user's badges\n",
    "    response = requests.get(url)\n",
    "\n",
    "    # Check the response status code and print the data\n",
    "    if response.status_code == 200:\n",
    "        print(\"Fetch successful!\")\n",
    "        badges = response.json()\n",
    "        print(\"User Badges:\", badges)\n",
    "    elif response.status_code == 404:\n",
    "        print(\"User not found.\")\n",
    "    else:\n",
    "        print(\"Error:\", response.status_code, response.json())\n",
    "\n",
    "# Example usage of the test function\n",
    "if __name__ == \"__main__\":\n",
    "    test_user_id = 1  # Replace with a valid user ID from your database\n",
    "    test_get_user_badges(test_user_id)\n"
   ]
  },
  {
   "cell_type": "code",
   "execution_count": null,
   "metadata": {},
   "outputs": [],
   "source": []
  }
 ],
 "metadata": {
  "kernelspec": {
   "display_name": "Python 3",
   "language": "python",
   "name": "python3"
  },
  "language_info": {
   "codemirror_mode": {
    "name": "ipython",
    "version": 3
   },
   "file_extension": ".py",
   "mimetype": "text/x-python",
   "name": "python",
   "nbconvert_exporter": "python",
   "pygments_lexer": "ipython3",
   "version": "3.8.8"
  }
 },
 "nbformat": 4,
 "nbformat_minor": 2
}
