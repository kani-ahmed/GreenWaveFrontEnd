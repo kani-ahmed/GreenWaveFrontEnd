{
 "cells": [
  {
   "cell_type": "code",
   "execution_count": 2,
   "metadata": {},
   "outputs": [
    {
     "name": "stdout",
     "output_type": "stream",
     "text": [
      "Request successful!\n",
      "Response: {'eco_points': 0, 'email': 'justguy@example.com', 'profile_picture': None, 'username': 'Just Guy'}\n"
     ]
    }
   ],
   "source": [
    "import requests\n",
    "\n",
    "# Get user profile data\n",
    "# Define the URL for the API endpoint\n",
    "url = 'http://127.0.0.1:8000/view_profile/1'\n",
    "\n",
    "# Make a GET request to the API endpoint\n",
    "response = requests.get(url)\n",
    "\n",
    "# Check the response status code\n",
    "if response.status_code == 200:\n",
    "    print('Request successful!')\n",
    "    print('Response:', response.json())  # Print the response data\n",
    "else:\n",
    "    print('Request failed.')\n",
    "    print('Response:', response.text)  # Print the response text to see the error message\n",
    "\n",
    "\n"
   ]
  },
  {
   "cell_type": "code",
   "execution_count": 4,
   "metadata": {},
   "outputs": [
    {
     "name": "stdout",
     "output_type": "stream",
     "text": [
      "Login successful!\n"
     ]
    }
   ],
   "source": [
    "# Example USER\n",
    "# Username: 'Just Guy'\n",
    "# ID: 1\n",
    "# Password: 'password'\n",
    "import requests\n",
    "\n",
    "\n",
    "# Define the URL of the API endpoint\n",
    "url = 'http://127.0.0.1:8000/login'\n",
    "\n",
    "# Define the data payload with the user ID and password\n",
    "data = {'username': 'Just Guy', 'password': 'password'}\n",
    "\n",
    "# Send a POST request to log in\n",
    "response = requests.post(url, json=data)\n",
    "\n",
    "# Check the response status code\n",
    "if response.status_code == 200:\n",
    "    print(\"Login successful!\")\n",
    "else:\n",
    "    print(\"Error:\", response.json())\n",
    "\n",
    "    "
   ]
  },
  {
   "cell_type": "code",
   "execution_count": null,
   "metadata": {},
   "outputs": [],
   "source": []
  }
 ],
 "metadata": {
  "kernelspec": {
   "display_name": "Python 3",
   "language": "python",
   "name": "python3"
  },
  "language_info": {
   "codemirror_mode": {
    "name": "ipython",
    "version": 3
   },
   "file_extension": ".py",
   "mimetype": "text/x-python",
   "name": "python",
   "nbconvert_exporter": "python",
   "pygments_lexer": "ipython3",
   "version": "3.8.8"
  }
 },
 "nbformat": 4,
 "nbformat_minor": 2
}
